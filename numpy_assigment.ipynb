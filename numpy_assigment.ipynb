{
 "cells": [
  {
   "cell_type": "code",
   "execution_count": null,
   "id": "0ca8ed31-5ed3-48b7-bc97-591a9e4303f2",
   "metadata": {},
   "outputs": [],
   "source": [
    "# Read all answers of given questions."
   ]
  },
  {
   "cell_type": "code",
   "execution_count": null,
   "id": "c4a90827-9172-43e6-bb49-53473009b5d0",
   "metadata": {},
   "outputs": [],
   "source": [
    "# Theoretical Questions"
   ]
  },
  {
   "cell_type": "code",
   "execution_count": null,
   "id": "79519970-e0c1-4be2-9c2f-f8c18f08039c",
   "metadata": {},
   "outputs": [],
   "source": [
    "#Q1)Explain the purpose and advantages of NumPy in scientific computing and data analysis. How does it enhance Python's capabilities for numerical operations?\n",
    "# Ans. NumPy enhances Python's capabilities for scientific computing and data analysis by providing efficient, multidimensional array objects (ndarrays) and \n",
    "# functions for performing high-performance numerical operations. It supports element-wise operations, matrix manipulations, and complex mathematical functions, making \n",
    "# it much faster than standard Python lists for large datasets. NumPy also integrates well with other libraries, enabling seamless data processing and analysis workflows. \n",
    "# Its array-based computing reduces memory usage and computational time, making it a fundamental tool for data science and scientific applications."
   ]
  },
  {
   "cell_type": "code",
   "execution_count": 2,
   "id": "04317576-4309-4b6f-93e0-43fdef1cbc51",
   "metadata": {},
   "outputs": [
    {
     "name": "stdout",
     "output_type": "stream",
     "text": [
      "2.5\n",
      "3.0\n"
     ]
    }
   ],
   "source": [
    "#Q2) Compare and contrast np.mean() and np.average() functions in NumPy. When would you use one over the other?\n",
    "# Ans. In NumPy, np.mean() and np.average() both calculate the average of an array, but they have key differences:\n",
    "# mean():- Calculate the simple arethmatic, treating all elements equally.\n",
    "# average():- Allows specifying weights, so some elements contribute more to the average than others.\n",
    "# When to use:\n",
    "# np.mean() is used when all elements are equally important.\n",
    "# np.average() is useful when you need a weighted average, where certain values have more significance.\n",
    "# Example:-\n",
    "import numpy as np\n",
    "arr=np.array([1,2,3,4])\n",
    "mean_array=np.mean(arr)\n",
    "\n",
    "weights = np.array([1, 2, 3, 4])\n",
    "average_array = np.average(arr, weights=weights)\n",
    "print(mean_array)\n",
    "print(average_array)"
   ]
  },
  {
   "cell_type": "code",
   "execution_count": 4,
   "id": "9e738f06-f5d5-4a7a-860a-bab76d7ff867",
   "metadata": {},
   "outputs": [
    {
     "name": "stdout",
     "output_type": "stream",
     "text": [
      "[5 4 3 2 1]\n",
      "[5 4 3 2 1]\n"
     ]
    }
   ],
   "source": [
    "#Q3) Describe the methods for reversing a NumPy array along different axes. Provide examples for 1D and 2D arrays.\n",
    "# In NumPy, you can reverse arrays along different axes using slicing or the np.flip() function. These methods allow for reversing arrays in different dimensions \n",
    "# (1D, 2D, etc.).\n",
    "\n",
    "# 1. Reversing a 1D Array\n",
    "# Method 1: Using slicing: [::-1] will reverse the array.\n",
    "# Method 2: Using np.flip(): This function can flip the array along a specified axis.\n",
    "# Example (1D array):\n",
    "\n",
    "# 1-D array\n",
    "arr_1d=np.array([1,2,3,4,5])\n",
    "# using slicing\n",
    "reverse_1d_slice= arr_1d[::-1]\n",
    "\n",
    "# using flip()\n",
    "reverse_1d_flip=np.flip(arr_1d)\n",
    "\n",
    "print(reverse_1d_slice)\n",
    "print(reverse_1d_flip)"
   ]
  },
  {
   "cell_type": "code",
   "execution_count": 8,
   "id": "100c39c1-3746-492f-a717-3388a111c97b",
   "metadata": {},
   "outputs": [
    {
     "name": "stdout",
     "output_type": "stream",
     "text": [
      "[[7 8 9]\n",
      " [4 5 6]\n",
      " [1 2 3]]\n",
      "[[3 2 1]\n",
      " [6 5 4]\n",
      " [9 8 7]]\n"
     ]
    }
   ],
   "source": [
    "# 2. Reversing a 2D Array\n",
    "# For 2D arrays, you can reverse rows, columns, or both.\n",
    "\n",
    "# Method 1: Using slicing:\n",
    "\n",
    "# [::-1, :] reverses rows.\n",
    "# [:, ::-1] reverses columns.\n",
    "# [::-1, ::-1] reverses both rows and columns.\n",
    "# Method 2: Using np.flip():\n",
    "\n",
    "# np.flip(arr, axis=0) reverses along rows.\n",
    "# np.flip(arr, axis=1) reverses along columns.\n",
    "# np.flip(arr) reverses both rows and columns.\n",
    "# Example (2D array):\n",
    "arr_2d = np.array([[1, 2, 3], \n",
    "                   [4, 5, 6], \n",
    "                   [7, 8, 9]])\n",
    "\n",
    "# Reverse rows (along axis 0)\n",
    "reversed_rows_slice = arr_2d[::-1, :]\n",
    "reversed_rows_flip = np.flip(arr_2d, axis=0)\n",
    "\n",
    "# Reverse columns (along axis 1)\n",
    "reversed_cols_slice = arr_2d[:, ::-1]\n",
    "reversed_cols_flip = np.flip(arr_2d, axis=1)\n",
    "\n",
    "# Reverse both rows and columns\n",
    "reversed_both_slice = arr_2d[::-1, ::-1]\n",
    "reversed_both_flip = np.flip(arr_2d)\n",
    "\n",
    "print(reversed_rows_slice)\n",
    "print(reversed_cols_slice)"
   ]
  },
  {
   "cell_type": "code",
   "execution_count": 10,
   "id": "d37fc166-bfb2-4de3-9c65-210d50923c06",
   "metadata": {},
   "outputs": [
    {
     "name": "stdout",
     "output_type": "stream",
     "text": [
      "int32\n"
     ]
    }
   ],
   "source": [
    "# Q4) How can you determine the data type of elements in a NumPy array? Discuss the importance of data types in memory management and performance.\n",
    "# Creating an array\n",
    "arr = np.array([1, 2, 3])\n",
    "\n",
    "# Determining the data type\n",
    "print(arr.dtype)"
   ]
  },
  {
   "cell_type": "code",
   "execution_count": null,
   "id": "a14f4426-39b8-450f-ab91-a4b3891ddbdf",
   "metadata": {},
   "outputs": [],
   "source": [
    "# Importance of Data Types in Memory Management and Performance:\n",
    "# Memory Efficiency: NumPy arrays use fixed-size data types, unlike Python lists, which store objects. This allows for more compact memory storage, especially when using \n",
    "# smaller data types (e.g., int8 vs int64), reducing the memory footprint for large datasets.\n",
    "\n",
    "# Performance: Fixed-size data types allow NumPy to perform operations in contiguous memory blocks, leading to faster computation compared to dynamically typed Python \n",
    "# lists. Operations on NumPy arrays are highly optimized for performance, especially in large-scale numerical tasks.\n",
    "\n",
    "# Selecting the appropriate data type is essential for balancing memory usage and computational speed."
   ]
  },
  {
   "cell_type": "code",
   "execution_count": 12,
   "id": "4c813e53-768f-4965-82b2-5b52fc6c7c1b",
   "metadata": {},
   "outputs": [
    {
     "name": "stdout",
     "output_type": "stream",
     "text": [
      "[[1 2 3]\n",
      " [4 5 6]]\n",
      "int32\n"
     ]
    }
   ],
   "source": [
    "# Q5) Define ndarrays in NumPy and explain their key features. How do they differ from standard Python lists?\n",
    "# An ndarray (N-dimensional array) in NumPy is a multidimensional, homogeneous data structure used for numerical computations. It is the core data type in NumPy.\n",
    "\n",
    "# ### Key Features of ndarrays:\n",
    "# 1. Homogeneous: All elements in the array must be of the same data type (e.g., `int`, `float`).\n",
    "# 2. Multidimensional: Supports arrays of any dimension (1D, 2D, 3D, etc.), allowing for complex data structures like matrices.\n",
    "# 3. Fixed Size: The size of an ndarray is fixed at the time of creation, making them more memory efficient.\n",
    "# 4. Vectorized Operations: Supports element-wise operations and broadcasting, making computations faster.\n",
    "# 5. Efficient Memory Layout: Data is stored in contiguous memory blocks, allowing for faster access and manipulation.\n",
    "\n",
    "# ### Differences from Python Lists:\n",
    "# - Data Type: Lists can contain mixed data types, while ndarrays are homogeneous.\n",
    "# - Performance: ndarrays are faster and more memory-efficient due to fixed size and contiguous memory storage.\n",
    "# - Operations: ndarrays support vectorized operations (e.g., element-wise addition), whereas lists require loops or manual iteration for such operations.\n",
    "\n",
    "# In short, ndarrays are optimized for numerical operations, making them superior for scientific computing compared to Python lists.\n",
    "\n",
    "# Example:\n",
    "import numpy as np\n",
    "\n",
    "# Create a 2D ndarray\n",
    "arr = np.array([[1, 2, 3], [4, 5, 6]])\n",
    "\n",
    "print(arr)\n",
    "print(arr.dtype)"
   ]
  },
  {
   "cell_type": "code",
   "execution_count": 3,
   "id": "a90c4a87-4147-4649-a65c-1633e51c8b9a",
   "metadata": {},
   "outputs": [
    {
     "name": "stdout",
     "output_type": "stream",
     "text": [
      "List time: 0.12057614326477051\n",
      "NumPy time: 0.0\n"
     ]
    }
   ],
   "source": [
    "#Q6)Analyze the performance benefits of NumPy arrays over Python lists for large-scale numerical operations.\n",
    "# Ans. NumPy arrays offer significant performance benefits over Python lists for large-scale numerical operations due to:\n",
    "\n",
    "# 1. Memory Efficiency: NumPy arrays store data in contiguous blocks of memory, allowing for more efficient storage and access compared to Python lists, which are arrays \n",
    "# of pointers to objects. This reduces memory overhead.\n",
    "\n",
    "# 2. Vectorized Operations: NumPy supports vectorized operations, meaning operations are applied element-wise, avoiding the need for explicit loops in Python. This leads \n",
    "# to faster execution.\n",
    "\n",
    "# 3. Optimized C Backend: NumPy is implemented in C, and many of its operations are highly optimized for speed, whereas Python lists rely on slower Python loops.\n",
    "\n",
    "# 4. Data Type Homogeneity: NumPy arrays require that all elements be of the same data type, allowing for faster computations. Python lists can store heterogeneous data, \n",
    "# adding overhead.\n",
    "import numpy as np\n",
    "import time\n",
    "\n",
    "# Python list\n",
    "size = 10**6\n",
    "list1 = list(range(size))\n",
    "list2 = list(range(size))\n",
    "\n",
    "start_time = time.time()\n",
    "result_list = [x + y for x, y in zip(list1, list2)]\n",
    "print(\"List time:\", time.time() - start_time)\n",
    "\n",
    "# NumPy array\n",
    "array1 = np.arange(size)\n",
    "array2 = np.arange(size)\n",
    "\n",
    "start_time = time.time()\n",
    "result_array = array1 + array2\n",
    "print(\"NumPy time:\", time.time() - start_time)"
   ]
  },
  {
   "cell_type": "code",
   "execution_count": 4,
   "id": "59920f65-0eaa-44ca-8a6d-55fa6e138e47",
   "metadata": {},
   "outputs": [
    {
     "name": "stdout",
     "output_type": "stream",
     "text": [
      "[[1 2 3]\n",
      " [4 5 6]]\n",
      "[1 2 3 4 5 6]\n"
     ]
    }
   ],
   "source": [
    "# Q7) Compare vstack() and hstack() functions in NumPy. Provide examples demonstrating their usage and output.\n",
    "# Ans. In NumPy, vstack() and hstack() are used to stack arrays vertically and horizontally, respectively.\n",
    "\n",
    "# 1. vstack(): Stacks arrays vertically (row-wise), aligning them along columns.\n",
    "# It requires arrays to have the same number of columns.\n",
    "import numpy as np\n",
    "\n",
    "a = np.array([1, 2, 3])\n",
    "b = np.array([4, 5, 6])\n",
    "\n",
    "result_vstack = np.vstack((a, b))\n",
    "print(result_vstack)\n",
    "\n",
    "# 2. hstack(): Stacks arrays horizontally (column-wise), aligning them along rows.\n",
    "# It requires arrays to have the same number of rows.\n",
    "result_hstack = np.hstack((a, b))\n",
    "print(result_hstack)"
   ]
  },
  {
   "cell_type": "code",
   "execution_count": 5,
   "id": "5f3228a9-df01-422e-8597-ac95500eb3da",
   "metadata": {},
   "outputs": [
    {
     "name": "stdout",
     "output_type": "stream",
     "text": [
      "[[3 2 1]\n",
      " [6 5 4]]\n",
      "[[4 5 6]\n",
      " [1 2 3]]\n"
     ]
    }
   ],
   "source": [
    "# Q8)Explain the differences between fliplr() and flipud() methods in NumPy, including their effects on various array dimensions.\n",
    "# Ans. In NumPy, the methods fliplr() and flipud() are used to flip arrays along specific axes, but they operate differently depending on the dimension:\n",
    "\n",
    "# 1. fliplr() (Flip Left to Right):\n",
    "# Effect: It flips the array horizontally (left to right) along the columns.\n",
    "# Applicable: This works only on 2D arrays or higher. It reverses the order of columns.\n",
    "import numpy as np\n",
    "\n",
    "arr = np.array([[1, 2, 3],\n",
    "                [4, 5, 6]])\n",
    "result_fliplr = np.fliplr(arr)\n",
    "print(result_fliplr)\n",
    "\n",
    "# 2. flipud() (Flip Up to Down):\n",
    "# Effect: It flips the array vertically (upside down) along the rows.\n",
    "# Applicable: This works on arrays of any dimension (1D, 2D, or higher). It reverses the order of rows.\n",
    "result_flipud = np.flipud(arr)\n",
    "print(result_flipud)"
   ]
  },
  {
   "cell_type": "code",
   "execution_count": 1,
   "id": "27c471fc-8f0a-4adf-b170-5427442c7666",
   "metadata": {},
   "outputs": [
    {
     "name": "stdout",
     "output_type": "stream",
     "text": [
      "Split 0: [0 1 2 3]\n",
      "Split 1: [4 5 6]\n",
      "Split 2: [7 8 9]\n"
     ]
    }
   ],
   "source": [
    "# Q9) Discuss the functionality of the array_split() method in NumPy. How does it handle uneven splits?\n",
    "# Ans. The array_split() method in NumPy splits an array into multiple sub-arrays along a specified axis. It's particularly useful when you want to divide an array into \n",
    "# a certain number of parts, even if those parts are not of equal size.\n",
    "\n",
    "# Handling Uneven Splits:\n",
    "# If the array cannot be evenly divided by the specified number of sections, array_split() handles this by creating sub-arrays where some parts may have more elements than others. Specifically:\n",
    "\n",
    "# It distributes the remainder among the earlier sections, making them slightly larger.\n",
    "# For example, if you split an array of 10 elements into 3 parts, the result might be arrays of sizes [4, 3, 3] instead of equal sizes.\n",
    "# This behavior allows flexibility in splitting arrays that do not have a size divisible by the number of desired splits.\n",
    "import numpy as np\n",
    "\n",
    "# Create an array of 10 elements\n",
    "arr = np.arange(10)\n",
    "\n",
    "# Split the array into 3 parts\n",
    "splits = np.array_split(arr, 3)\n",
    "\n",
    "for i, split in enumerate(splits):\n",
    "    print(f\"Split {i}: {split}\")"
   ]
  },
  {
   "cell_type": "code",
   "execution_count": null,
   "id": "473fef4f-a825-47a6-bc64-0ed1bf78a0ba",
   "metadata": {},
   "outputs": [],
   "source": [
    "# Q10) Explain the concepts of vectorization and broadcasting in NumPy. How do they contribute to efficient array operations?\n",
    "Ans. In NumPy, vectorization refers to performing operations on entire arrays (vectors) without the need for explicit loops, leveraging highly optimized C code \n",
    "under the hood. This makes operations much faster than traditional loops in Python.\n",
    "\n",
    "Broadcasting is a mechanism that allows NumPy to perform operations on arrays of different shapes. Instead of reshaping data manually, broadcasting automatically \n",
    "expands smaller arrays to match the shape of larger ones, enabling element-wise operations without needing explicit looping.\n",
    "\n",
    "Both vectorization and broadcasting contribute to efficient array operations by reducing the overhead of Python loops and minimizing memory usage, making numerical \n",
    "computations faster and more efficient."
   ]
  },
  {
   "cell_type": "code",
   "execution_count": null,
   "id": "07d46f2f-fda5-4ee5-97a7-268200602296",
   "metadata": {},
   "outputs": [],
   "source": [
    "# Practical Questions"
   ]
  },
  {
   "cell_type": "code",
   "execution_count": 2,
   "id": "71a0afc5-11bb-4efd-960d-33edbb99258b",
   "metadata": {},
   "outputs": [
    {
     "name": "stdout",
     "output_type": "stream",
     "text": [
      "[[ 3 41  9]\n",
      " [18 46 42]\n",
      " [98 90 99]]\n",
      "__________\n",
      "[[ 3 18 98]\n",
      " [41 46 90]\n",
      " [ 9 42 99]]\n"
     ]
    }
   ],
   "source": [
    "#Q1)Create a 3x3 NumPy array with random integers between 1 and 100. Then, interchange its rows and columns\n",
    "import numpy as np\n",
    "ar=np.random.randint(1,100,(3,3))\n",
    "print(ar)\n",
    "print('__________')\n",
    "print(ar.T)"
   ]
  },
  {
   "cell_type": "code",
   "execution_count": 42,
   "id": "d9d6d8db-ca74-4a2f-acca-eddae5bc47d0",
   "metadata": {},
   "outputs": [
    {
     "name": "stdout",
     "output_type": "stream",
     "text": [
      "Original array\n",
      "[ 1  2  3  4  5  6  7  8  9 10]\n",
      "2x5 array\n",
      "5x2 array\n"
     ]
    },
    {
     "data": {
      "text/plain": [
       "array([[ 1,  2],\n",
       "       [ 3,  4],\n",
       "       [ 5,  6],\n",
       "       [ 7,  8],\n",
       "       [ 9, 10]])"
      ]
     },
     "execution_count": 42,
     "metadata": {},
     "output_type": "execute_result"
    }
   ],
   "source": [
    "#Q2) Generate a 1D NumPy array with 10 elements. Reshape it into a 2x5 array, then into a 5x2 array.\n",
    "ar=np.array([1,2,3,4,5,6,7,8,9,10])\n",
    "print('Original array')\n",
    "print(ar)\n",
    "print('2x5 array')\n",
    "print(ar.reshape(2,5))\n",
    "print('5x2 array')\n",
    "ar.reshape(5,2)"
   ]
  },
  {
   "cell_type": "code",
   "execution_count": 34,
   "id": "ea8bbc3f-e22d-44da-a166-e264fe075a4e",
   "metadata": {},
   "outputs": [
    {
     "name": "stdout",
     "output_type": "stream",
     "text": [
      "Original array:  [[0.58682536 0.90774351 0.66345213 0.66724066]\n",
      " [0.27963705 0.17923341 0.36794886 0.69826036]\n",
      " [0.18012014 0.06912946 0.36498438 0.85857219]\n",
      " [0.44811167 0.94632111 0.16626576 0.03369231]]\n",
      "border_array:  [[0.         0.87055374 0.88747173 0.33373203]\n",
      " [0.47202431 0.         0.         0.        ]\n",
      " [0.         0.         0.         0.        ]\n",
      " [0.         0.         0.         0.        ]]\n"
     ]
    },
    {
     "data": {
      "text/plain": [
       "array([[0.        , 0.87055374, 0.88747173, 0.33373203],\n",
       "       [0.47202431, 0.        , 0.        , 0.        ],\n",
       "       [0.        , 0.        , 0.        , 0.        ],\n",
       "       [0.        , 0.        , 0.        , 0.        ]])"
      ]
     },
     "execution_count": 34,
     "metadata": {},
     "output_type": "execute_result"
    }
   ],
   "source": [
    "#Q3)Create a 4x4 NumPy array with random float values. Add a border of zeros around it, resulting in a 6x6 array.\n",
    "original_array=np.random.rand(4,4)\n",
    "er_array=np.pad(original_array, pad_width=1, mode='constant',constant_values=0)\n",
    "print('Original array: ', original_array)\n",
    "print('border_array: ', border_array)\n",
    "brd=border_array.reshape(4,4)\n",
    "brd"
   ]
  },
  {
   "cell_type": "code",
   "execution_count": 36,
   "id": "33b3fcba-748a-41e0-9d6c-9e1db601c518",
   "metadata": {},
   "outputs": [
    {
     "name": "stdout",
     "output_type": "stream",
     "text": [
      "[10 11 12 13 14 15 16 17 18 19 20 21 22 23 24 25 26 27 28 29 30 31 32 33\n",
      " 34 35 36 37 38 39 40 41 42 43 44 45 46 47 48 49 50 51 52 53 54 55 56 57\n",
      " 58 59]\n"
     ]
    }
   ],
   "source": [
    "# Q4)Using NumPy, create an array of integers from 10 to 60 with a step of 5.\n",
    "array=np.arange(10,60)\n",
    "print(array)"
   ]
  },
  {
   "cell_type": "code",
   "execution_count": 12,
   "id": "85a6d607-3ad2-4c61-b4c8-e34d1843f87c",
   "metadata": {},
   "outputs": [
    {
     "name": "stdout",
     "output_type": "stream",
     "text": [
      "['python' 'numpy' 'pandas']\n",
      "['PYTHON' 'NUMPY' 'PANDAS']\n",
      "['python' 'numpy' 'pandas']\n",
      "['Python' 'Numpy' 'Pandas']\n",
      "['Python' 'Numpy' 'Pandas']\n"
     ]
    }
   ],
   "source": [
    "# Q5)Create a NumPy array of strings ['python', 'numpy', 'pandas']. Apply different case transformations (uppercase, lowercase, title case, etc.) to each element.\n",
    "x=np.array(['python','numpy','pandas'])\n",
    "print(x)\n",
    "upper_case=np.char.upper(x)\n",
    "print(upper_case)\n",
    "lower_case=np.char.lower(x)\n",
    "print(lower_case)\n",
    "title_case=np.char.title(x)\n",
    "print(title_case)\n",
    "capitalize_case=np.char.capitalize(x)\n",
    "print(capitalize_case)"
   ]
  },
  {
   "cell_type": "code",
   "execution_count": 16,
   "id": "151c3d22-9d0c-408e-93e6-21115e03771c",
   "metadata": {},
   "outputs": [
    {
     "name": "stdout",
     "output_type": "stream",
     "text": [
      "Original array:  ['python' 'numpy' 'pandas']\n",
      "['p y t h o n' 'n u m p y' 'p a n d a s']\n"
     ]
    }
   ],
   "source": [
    "# Q6)Generate a NumPy array of words. Insert a space between each character of every word in the array.\n",
    "x=np.array(['python','numpy','pandas'])\n",
    "print('Original array: ',x)\n",
    "r=np.char.join(' ', x)\n",
    "print(r)"
   ]
  },
  {
   "cell_type": "code",
   "execution_count": 37,
   "id": "b10f5f12-0b54-4f30-b9a3-a2d4539fe899",
   "metadata": {},
   "outputs": [
    {
     "name": "stdout",
     "output_type": "stream",
     "text": [
      "[[0.08912359 0.04036108]\n",
      " [0.68156231 0.80734379]]\n",
      "[[0.44611458 0.97187697]\n",
      " [0.4133955  0.07559208]]\n",
      "addition of two array:  [[0.53523817 1.01223806]\n",
      " [1.09495781 0.88293587]]\n",
      "subtraction of two array:  [[-0.35699099 -0.93151589]\n",
      " [ 0.2681668   0.7317517 ]]\n",
      "multiplication of two array:  [[0.03975933 0.03922601]\n",
      " [0.28175479 0.0610288 ]]\n",
      "division of two array:  [[ 0.19977736  0.041529  ]\n",
      " [ 1.64869308 10.68026882]]\n"
     ]
    }
   ],
   "source": [
    "# Q7)Create two 2D NumPy arrays and perform element-wise addition, subtraction, multiplication, and division.\n",
    "arr1=np.random.rand(2,2)\n",
    "print(arr1)\n",
    "arr2=np.random.rand(2,2)\n",
    "print(arr2)\n",
    "# add two 2-D array\n",
    "add_array=np.add(arr1,arr2)\n",
    "print('addition of two array: ',add_array)\n",
    "# subtract two 2-D array\n",
    "substraction_array=np.subtract(arr1,arr2)\n",
    "print('subtraction of two array: ',substraction_array)\n",
    "# multiplication 2-D array\n",
    "multiplication_array=np.multiply(arr1,arr2)\n",
    "print('multiplication of two array: ',multiplication_array)\n",
    "# division 2-D array\n",
    "division_array=np.divide(arr1,arr2)\n",
    "print('division of two array: ',division_array)"
   ]
  },
  {
   "cell_type": "code",
   "execution_count": 51,
   "id": "5eb72ca8-6e4d-4c23-9c9c-76ac078dfa44",
   "metadata": {},
   "outputs": [
    {
     "name": "stdout",
     "output_type": "stream",
     "text": [
      "[[1. 0. 0. 0. 0.]\n",
      " [0. 1. 0. 0. 0.]\n",
      " [0. 0. 1. 0. 0.]\n",
      " [0. 0. 0. 1. 0.]\n",
      " [0. 0. 0. 0. 1.]]\n",
      "[1. 1. 1. 1. 1.]\n"
     ]
    }
   ],
   "source": [
    "# Q8)Use NumPy to create a 5x5 identity matrix, then extract its diagonal elements.\n",
    "x=np.eye(5,5)\n",
    "print(x)\n",
    "y=np.diag(x)\n",
    "print(y)"
   ]
  },
  {
   "cell_type": "code",
   "execution_count": 53,
   "id": "cf57185f-60dc-4cf9-8df5-42e111e6b172",
   "metadata": {},
   "outputs": [
    {
     "data": {
      "text/plain": [
       "(array([470, 653, 135,  41, 736, 143, 494, 275, 395, 713, 126, 382, 941,\n",
       "        345, 755, 220, 425,  11, 160, 416,  91, 824, 425, 687, 167, 416,\n",
       "        431, 435, 216, 659, 749, 808, 621, 646, 780, 229, 686, 987, 527,\n",
       "        533, 901, 222, 676, 100, 812, 855, 291, 538, 882, 947,   1, 945,\n",
       "        769, 252, 903, 341,  85, 489, 598, 810, 777,   6, 323, 428, 755,\n",
       "        232, 204, 813, 489, 430, 976, 989,  15, 993, 862, 236,  29, 869,\n",
       "        120, 135, 640, 331,  99, 622, 758, 704, 189, 932, 112, 395, 734,\n",
       "        643,  68, 411,  55, 667, 768, 365, 918, 803]),\n",
       " [653, 41, 941, 11, 167, 431, 659, 229, 947, 769, 29, 331, 643])"
      ]
     },
     "execution_count": 53,
     "metadata": {},
     "output_type": "execute_result"
    }
   ],
   "source": [
    "# Q9)Generate a NumPy array of 100 random integers between 0 and 1000. Find and display all prime numbers in this array.\n",
    "import numpy as np\n",
    "\n",
    "# Generate a NumPy array of 100 random integers between 0 and 1000\n",
    "random_integers = np.random.randint(0, 1000, size=100)\n",
    "\n",
    "# Function to check if a number is prime\n",
    "def is_prime(n):\n",
    "    if n < 2:\n",
    "        return False\n",
    "    for i in range(2, int(np.sqrt(n)) + 1):\n",
    "        if n % i == 0:\n",
    "            return False\n",
    "    return True\n",
    "\n",
    "# Find and display all prime numbers in the array\n",
    "prime_numbers = [num for num in random_integers if is_prime(num)]\n",
    "\n",
    "random_integers, prime_numbers"
   ]
  }
 ],
 "metadata": {
  "kernelspec": {
   "display_name": "Python 3 (ipykernel)",
   "language": "python",
   "name": "python3"
  },
  "language_info": {
   "codemirror_mode": {
    "name": "ipython",
    "version": 3
   },
   "file_extension": ".py",
   "mimetype": "text/x-python",
   "name": "python",
   "nbconvert_exporter": "python",
   "pygments_lexer": "ipython3",
   "version": "3.12.4"
  }
 },
 "nbformat": 4,
 "nbformat_minor": 5
}
